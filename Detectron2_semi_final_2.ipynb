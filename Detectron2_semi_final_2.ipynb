{
  "nbformat": 4,
  "nbformat_minor": 0,
  "metadata": {
    "colab": {
      "name": "Detectron2_semi_final (1).ipynb의 사본",
      "provenance": [],
      "collapsed_sections": []
    },
    "kernelspec": {
      "name": "python3",
      "display_name": "Python 3"
    },
    "accelerator": "GPU"
  },
  "cells": [
    {
      "cell_type": "markdown",
      "metadata": {
        "id": "OwtM-gycJZTZ",
        "colab_type": "text"
      },
      "source": [
        "# Detectron2 설치하기"
      ]
    },
    {
      "cell_type": "code",
      "metadata": {
        "id": "jeVHyAaTLZ__",
        "colab_type": "code",
        "colab": {}
      },
      "source": [
        "# 종속 패키지(dependencies) 설치, 설치후에 Restart Runtime이 나오면 클릭해줍니다.\n",
        "!pip install -U torch torchvision cython\n",
        "!pip install -U 'git+https://github.com/facebookresearch/fvcore.git' 'git+https://github.com/cocodataset/cocoapi.git#subdirectory=PythonAPI'\n",
        "import torch, torchvision\n",
        "torch.__version__"
      ],
      "execution_count": 0,
      "outputs": []
    },
    {
      "cell_type": "code",
      "metadata": {
        "id": "lYRKo9gFLlDO",
        "colab_type": "code",
        "colab": {}
      },
      "source": [
        "#!pip install pyyaml==5.1\n",
        "# Detectiorn2 repo 클론, 인스톨\n",
        "!git clone https://github.com/facebookresearch/detectron2 detectron2_repo\n",
        "!pip install -e detectron2_repo"
      ],
      "execution_count": 0,
      "outputs": []
    },
    {
      "cell_type": "code",
      "metadata": {
        "id": "gkOVB33uMvql",
        "colab_type": "code",
        "colab": {}
      },
      "source": [
        "# 인스톨이 완료되면 Colab Runtime을 다시 시작해주세요. \n",
        "#------------------여기서부터 실행하면 될듯하오\n",
        "\n",
        "# 기본 설정\n",
        "# detectron2 logger 설정\n",
        "import detectron2\n",
        "from detectron2.utils.logger import setup_logger\n",
        "setup_logger()\n",
        "\n",
        "# 자주 사용하는 라이브러리 임폴트\n",
        "import numpy as np\n",
        "import cv2\n",
        "import random\n",
        "import os\n",
        "from google.colab.patches import cv2_imshow\n",
        "\n",
        "# 자주 사용하는 detectron2 유틸 임폴트 \n",
        "from detectron2.engine import DefaultPredictor\n",
        "from detectron2.config import get_cfg\n",
        "from detectron2.utils.visualizer import Visualizer\n",
        "from detectron2.data import MetadataCatalog"
      ],
      "execution_count": 0,
      "outputs": []
    },
    {
      "cell_type": "markdown",
      "metadata": {
        "id": "pUDTU5IzJW6g",
        "colab_type": "text"
      },
      "source": [
        "# 1. Google Drive Api"
      ]
    },
    {
      "cell_type": "code",
      "metadata": {
        "id": "XxXnE1I_IaQn",
        "colab_type": "code",
        "colab": {}
      },
      "source": [
        "# Google Drive api 활용, PyDrive package 인스톨\n",
        "!pip install -U -q PyDrive"
      ],
      "execution_count": 0,
      "outputs": []
    },
    {
      "cell_type": "code",
      "metadata": {
        "id": "uaL8ia4JJQX4",
        "colab_type": "code",
        "colab": {}
      },
      "source": [
        "# Auth 승인을 받습니다. 코드 실행 시 링크가 나오면 들어가서 계정을 인증하고 인증 코드를 복사해 붙여넣습니다.\n",
        "from pydrive.auth import GoogleAuth\n",
        "from pydrive.drive import GoogleDrive\n",
        "from google.colab import auth\n",
        "from oauth2client.client import GoogleCredentials\n",
        "   \n",
        "# PyDrive Authentication\n",
        "auth.authenticate_user()\n",
        "gauth = GoogleAuth()\n",
        "gauth.credentials = GoogleCredentials.get_application_default()\n",
        "drive = GoogleDrive(gauth)"
      ],
      "execution_count": 0,
      "outputs": []
    },
    {
      "cell_type": "code",
      "metadata": {
        "id": "ULoAC9ODJ9zG",
        "colab_type": "code",
        "colab": {}
      },
      "source": [
        "# Folder Id로 FileList 받아오기\n",
        "# 폴더 ID는 개인 드라이브에서 폴더에 들어가면 https://drive.google.com/drive/folders/ 이후에 나오는 주소입니다.\n",
        "\n",
        "folder_id = '1vclAcBSu8wWtYCvAHX0kGJiXb84oGl33'\n",
        "#'1R4bFN-68jn0Ug-gX4nWYTV0C87x6QN_2'\n",
        "#아아아아아 이놈의 오류\n",
        "   \n",
        "def ListFolder(parent):\n",
        "    filelist=[]\n",
        "    file_list = drive.ListFile({'q': \"'%s' in parents and trashed=false\" % parent}).GetList()\n",
        "    for f in file_list:\n",
        "        if f['mimeType']=='application/vnd.google-apps.folder': # if folder\n",
        "            filelist.append({\"id\":f['id'],\"title\":f['title'],\"list\":ListFolder(f['id'])})\n",
        "        else:\n",
        "            filelist.append({\"title\":f['title'],\"id\":f['id']})\n",
        "    return filelist\n",
        "   \n",
        "   \n",
        "file_lists = ListFolder(folder_id)"
      ],
      "execution_count": 0,
      "outputs": []
    },
    {
      "cell_type": "code",
      "metadata": {
        "id": "0cbeA0LcKjft",
        "colab_type": "code",
        "colab": {}
      },
      "source": [
        "# Local (colaboratory) directory 지정\n",
        "# choose a local (colab) directory to store the data.\n",
        "import os\n",
        "\n",
        "local_download_path = os.path.expanduser('')\n",
        "try:\n",
        "\tos.makedirs(local_download_path)\n",
        "except: pass"
      ],
      "execution_count": 0,
      "outputs": []
    },
    {
      "cell_type": "code",
      "metadata": {
        "id": "WsxEX5szK3GC",
        "colab_type": "code",
        "colab": {}
      },
      "source": [
        "# Filename 저장, 여기까지 하면 구글 드라이브 폴더 내의 파일을 Colab에 지정한 장소에 업로드 됩니다.\n",
        "ret = []\n",
        "for file in file_lists:\n",
        "    print('title: %s, id: %s' % (file['title'], file['id']))\n",
        "    fname = os.path.join(local_download_path, file['title'])\n",
        "    print('downloading to {}'.format(fname))\n",
        "    f_ = drive.CreateFile({'id': file['id']})\n",
        "    f_.GetContentFile(fname)\n",
        "    print(fname)\n",
        "    ret.append(fname)"
      ],
      "execution_count": 0,
      "outputs": []
    },
    {
      "cell_type": "code",
      "metadata": {
        "id": "sAcnOo7pVjOD",
        "colab_type": "code",
        "colab": {}
      },
      "source": [
        "#import os\n",
        "#os.chdir('receipt')\n",
        "!ls"
      ],
      "execution_count": 0,
      "outputs": []
    },
    {
      "cell_type": "code",
      "metadata": {
        "id": "iuubu1txN5LM",
        "colab_type": "code",
        "colab": {}
      },
      "source": [
        "# 업로드한 파일을 압축해제합니다.\n",
        "!unzip dataset.zip > /dev/null"
      ],
      "execution_count": 0,
      "outputs": []
    },
    {
      "cell_type": "code",
      "metadata": {
        "id": "RTg2IoFEV8DY",
        "colab_type": "code",
        "colab": {}
      },
      "source": [
        "#os.chdir('../')\n",
        "!ls"
      ],
      "execution_count": 0,
      "outputs": []
    },
    {
      "cell_type": "markdown",
      "metadata": {
        "id": "9fbyNwifM93C",
        "colab_type": "text"
      },
      "source": [
        "# 커스텀 데이터셋 학습하기"
      ]
    },
    {
      "cell_type": "code",
      "metadata": {
        "id": "3mL6WpP5kz4W",
        "colab_type": "code",
        "colab": {}
      },
      "source": [
        "# 인스톨이 완료되면 Colab Runtime을 다시 시작해주세요.\n",
        "# 기본 설정\n",
        "# detectron2 logger 설정\n",
        "import detectron2\n",
        "from detectron2.utils.logger import setup_logger\n",
        "setup_logger()\n",
        "\n",
        "# 자주 사용하는 라이브러리 임폴트\n",
        "import numpy as np\n",
        "import cv2\n",
        "import random\n",
        "import os\n",
        "from google.colab.patches import cv2_imshow\n",
        "import matplotlib\n",
        "import json\n",
        "\n",
        "# 자주 사용하는 detectron2 유틸 임폴트 \n",
        "from detectron2.engine import DefaultPredictor\n",
        "from detectron2.config import get_cfg\n",
        "from detectron2.utils.visualizer import Visualizer\n",
        "from detectron2.data import MetadataCatalog"
      ],
      "execution_count": 0,
      "outputs": []
    },
    {
      "cell_type": "code",
      "metadata": {
        "id": "5gBm4qhajIKh",
        "colab_type": "code",
        "colab": {}
      },
      "source": [
        "import os\n",
        "import numpy as np\n",
        "import json\n",
        "from detectron2.structures import BoxMode\n",
        "import itertools\n",
        "import cv2\n",
        "\n",
        "def get_receipt_dicts(img_path,json_path):\n",
        "    '''\n",
        "    AD Oct 2019 : loading function to calculate the bboxes from the masks (as it does not exist so far in Detectron2)\n",
        "    expected format:\n",
        "    \n",
        "    {'file_name': 'path/to/image',\n",
        "    'height' : imgheight,\n",
        "    'width': imgwidth,\n",
        "    'annotations':\n",
        "    [{'bbox': [xmin,ymin,xmax,ymax], 'bbox_mode': <BoxMode.XYXY_ABS: 0>,\n",
        "    'segmentation': [[polygon/coordinates/x/y]],\n",
        "    'category_id': 0, 'iscrowd': 0}, \n",
        "    {'bbox': [xmin2,ymin2,xmax2,ymax2], 'bbox_mode': <BoxMode.XYXY_ABS: 0>,\n",
        "    'segmentation': [[polygon2/coordinates/x/y]],\n",
        "    'category_id': 0, 'iscrowd': 0},\n",
        "    \n",
        "    etc ...]\n",
        "    \n",
        "    }\n",
        "    INPUTS:\n",
        "        img_path . str, path to the images\n",
        "        json_path. str, path to the json annotation file (coco format)\n",
        "    \n",
        "    '''\n",
        "    \n",
        "    with open(json_path) as f:\n",
        "        imgs_anns = json.load(f)\n",
        "    dataset_dicts = []\n",
        "    \n",
        "    for img in imgs_anns['images']:\n",
        "        record = {}\n",
        "        \n",
        "        filename = os.path.join(img_path,img['file_name'])\n",
        "        height, width = cv2.imread(filename).shape[:2]\n",
        "        image_id = img['id']\n",
        "\n",
        "        record[\"file_name\"] = filename\n",
        "        record[\"height\"] = height\n",
        "        record[\"width\"] = width\n",
        "        \n",
        "        for annos in imgs_anns['annotations']:\n",
        "            if annos['image_id'] == image_id:\n",
        "\n",
        "                objs = []\n",
        "                poly = annos['segmentation']\n",
        "                 \n",
        "                for p in poly:\n",
        "                    bbox=[]\n",
        "                    x, y = p[::2] , p[1::2]\n",
        "                    bbox.append(np.min(x))\n",
        "                    bbox.append(np.min(y))\n",
        "                    bbox.append(np.max(x))\n",
        "                    bbox.append(np.max(y))\n",
        "                    obj = {\"bbox\": bbox,\n",
        "                            \"bbox_mode\": BoxMode.XYXY_ABS,\n",
        "                            \"segmentation\": [p],\n",
        "                            \"category_id\": 0,\n",
        "                            \"iscrowd\": 0}\n",
        "                    objs.append(obj)\n",
        "\n",
        "        \n",
        "        record[\"annotations\"] = objs\n",
        "        dataset_dicts.append(record)\n",
        "    return dataset_dicts\n",
        "\n",
        "from detectron2.data import DatasetCatalog, MetadataCatalog\n",
        "from detectron2.data.datasets import register_coco_instances\n",
        "\n",
        "register_coco_instances(\"train\", {}, \"train/receipt_coco.json\",\n",
        "                        \"train/\")\n",
        "\n",
        "register_coco_instances(\"val\", {}, \"val/receipt_coco.json\",\n",
        "                        \"val/\")\n",
        "\n",
        "receipt_metadata_train = MetadataCatalog.get(\"train\")\n",
        "receipt_metadata_val = MetadataCatalog.get(\"val\")"
      ],
      "execution_count": 0,
      "outputs": []
    },
    {
      "cell_type": "code",
      "metadata": {
        "id": "Kvtv-Ookj3gX",
        "colab_type": "code",
        "colab": {}
      },
      "source": [
        "dataset_dicts = get_receipt_dicts(\"train\",\"train/receipt_coco.json\")\n",
        "for d in random.sample(dataset_dicts, 3):\n",
        "    img = cv2.imread(d[\"file_name\"])\n",
        "    visualizer = Visualizer(img[:, :, ::-1], receipt_metadata_train, scale=0.5)\n",
        "    vis = visualizer.draw_dataset_dict(d)\n",
        "    cv2_imshow(vis.get_image()[:, :, ::-1])"
      ],
      "execution_count": 0,
      "outputs": []
    },
    {
      "cell_type": "markdown",
      "metadata": {
        "id": "4KiGxYysgNle",
        "colab_type": "text"
      },
      "source": [
        "# Object Detection"
      ]
    },
    {
      "cell_type": "code",
      "metadata": {
        "id": "tN4w4BrKOHUc",
        "colab_type": "code",
        "colab": {}
      },
      "source": [
        "\n",
        "cfg = get_cfg()"
      ],
      "execution_count": 0,
      "outputs": []
    },
    {
      "cell_type": "code",
      "metadata": {
        "id": "u9r34abggRHw",
        "colab_type": "code",
        "colab": {}
      },
      "source": [
        "from detectron2.engine import DefaultTrainer\n",
        "from detectron2.config import get_cfg\n",
        "\n",
        "cfg = get_cfg()\n",
        "cfg.merge_from_file(\"./detectron2_repo/configs/COCO-Detection/retinanet_R_50_FPN_3x.yaml\")\n",
        "cfg.DATASETS.TRAIN = (\"train\",)\n",
        "cfg.DATASETS.TEST = ()\n",
        "cfg.DATALOADER.NUM_WORKERS = 2\n",
        "cfg.MODEL.WEIGHTS = \"detectron2://COCO-InstanceSegmentation/mask_rcnn_R_50_FPN_3x/137849600/model_final_f10217.pkl\"   # initialize from model zoo\n",
        "cfg.SOLVER.IMS_PER_BATCH = 2\n",
        "cfg.SOLVER.BASE_LR = 0.00025\n",
        "cfg.SOLVER.MAX_ITER = 900    #900, 근데 여기를 줄여도 된다. ☆근데 여기서 10이나 100으로 너무 낮게 잡으면 오류나서 최소 300이 좋은듯!!!!!!!!☆\n",
        "cfg.MODEL.ROI_HEADS.BATCH_SIZE_PER_IMAGE = 512   \n",
        "cfg.MODEL.ROI_HEADS.NUM_CLASSES = 1  # 클래스는 \"영수증\" 클래스 하나 뿐입니다.\n",
        "\n",
        "os.makedirs(cfg.OUTPUT_DIR, exist_ok=True)\n",
        "trainer = DefaultTrainer(cfg) \n",
        "trainer.resume_or_load(resume=False)\n",
        "trainer.train()"
      ],
      "execution_count": 0,
      "outputs": []
    },
    {
      "cell_type": "code",
      "metadata": {
        "id": "tHPPkusqt6Zv",
        "colab_type": "code",
        "colab": {}
      },
      "source": [
        "# tensorboard를 사용해서 학습 커브를 살펴봅니다.\n",
        "%load_ext tensorboard\n",
        "%tensorboard --logdir output"
      ],
      "execution_count": 0,
      "outputs": []
    },
    {
      "cell_type": "code",
      "metadata": {
        "id": "slUl2Bvcu6xy",
        "colab_type": "code",
        "colab": {}
      },
      "source": [
        "cfg.MODEL.WEIGHTS = os.path.join(cfg.OUTPUT_DIR, \"model_final.pth\")\n",
        "cfg.MODEL.RETINANET.SCORE_THRESH_TEST = 0.7   # set the testing threshold for this model\n",
        "cfg.DATASETS.TEST = (\"val\", )\n",
        "predictor = DefaultPredictor(cfg)"
      ],
      "execution_count": 0,
      "outputs": []
    },
    {
      "cell_type": "code",
      "metadata": {
        "id": "eA9Y3SjAvWco",
        "colab_type": "code",
        "colab": {}
      },
      "source": [
        "from detectron2.utils.visualizer import ColorMode\n",
        "dataset_dicts = get_receipt_dicts(\"val\",\"val/receipt_coco.json\")\n",
        "for d in random.sample(dataset_dicts, 3):    \n",
        "    im = cv2.imread(d[\"file_name\"])\n",
        "    outputs = predictor(im)\n",
        "    v = Visualizer(im[:, :, ::-1],\n",
        "                   metadata=receipt_metadata_train, \n",
        "                   scale=0.8\n",
        "    )\n",
        "    v = v.draw_instance_predictions(outputs[\"instances\"].to(\"cpu\"))\n",
        "    cv2_imshow(v.get_image()[:, :, ::-1])\n",
        "print(type(outputs))"
      ],
      "execution_count": 0,
      "outputs": []
    },
    {
      "cell_type": "code",
      "metadata": {
        "id": "i1wCjMBFztEN",
        "colab_type": "code",
        "colab": {}
      },
      "source": [
        "from detectron2.evaluation import COCOEvaluator, inference_on_dataset\n",
        "from detectron2.data import build_detection_test_loader\n",
        "evaluator = COCOEvaluator(\"val\", cfg, False, output_dir=\"./output/\")\n",
        "val_loader = build_detection_test_loader(cfg, \"val\")\n",
        "inference_on_dataset(trainer.model, val_loader, evaluator)\n",
        "# another equivalent way is to use trainer.test"
      ],
      "execution_count": 0,
      "outputs": []
    },
    {
      "cell_type": "code",
      "metadata": {
        "id": "88EALeNQD5_J",
        "colab_type": "code",
        "colab": {}
      },
      "source": [
        "from google.colab import drive\n",
        "drive.mount('/content/drive')"
      ],
      "execution_count": 0,
      "outputs": []
    },
    {
      "cell_type": "markdown",
      "metadata": {
        "id": "5chxLtQXjvj8",
        "colab_type": "text"
      },
      "source": [
        ""
      ]
    },
    {
      "cell_type": "code",
      "metadata": {
        "id": "fgDQftJljwTC",
        "colab_type": "code",
        "colab": {}
      },
      "source": [
        "!ls output"
      ],
      "execution_count": 0,
      "outputs": []
    },
    {
      "cell_type": "markdown",
      "metadata": {
        "id": "GIeMP6-G0AuC",
        "colab_type": "text"
      },
      "source": [
        "# Instance Segmentation"
      ]
    },
    {
      "cell_type": "markdown",
      "metadata": {
        "id": "woSpyOHn0GTA",
        "colab_type": "text"
      },
      "source": [
        "이제 학습을 진행할 단계입니다. COCO 데이터셋으로 학습된 R50-FPN Mask R-CNN 모델을 불러와서 영수증 데이터셋으로 fine-tune해 봅시다. Colab의 K80 GPU를 기준으로, 300 iterations 학습시키는데 대략 6분정도의 시간이 소요됩니다(P100 GPU의 경우 2분 가량 소요됩니다)."
      ]
    },
    {
      "cell_type": "code",
      "metadata": {
        "id": "bYyACEnY0B_J",
        "colab_type": "code",
        "colab": {}
      },
      "source": [
        "from detectron2.engine import DefaultTrainer\n",
        "from detectron2.config import get_cfg\n",
        "\n",
        "cfg = get_cfg()\n",
        "cfg.merge_from_file(\"./detectron2_repo/configs/COCO-InstanceSegmentation/mask_rcnn_R_50_FPN_3x.yaml\")\n",
        "cfg.DATASETS.TRAIN = (\"train\",)\n",
        "cfg.DATASETS.TEST = ()\n",
        "cfg.DATALOADER.NUM_WORKERS = 2\n",
        "cfg.MODEL.WEIGHTS = \"detectron2://COCO-InstanceSegmentation/mask_rcnn_R_50_FPN_3x/137849600/model_final_f10217.pkl\"  # initialize from model zoo\n",
        "cfg.SOLVER.IMS_PER_BATCH = 2\n",
        "cfg.SOLVER.BASE_LR = 0.00025\n",
        "cfg.SOLVER.MAX_ITER = 300    # 원랜 900으로 되어 있던걸 내가 300으로 바꿈!!! 300 iterations 정도면 충분합니다. 더 오랜 시간도 시도해보세요.\n",
        "cfg.MODEL.ROI_HEADS.BATCH_SIZE_PER_IMAGE = 1024   # 영수증 데이터셋과 같이 적당한 데이터셋에서는 이정도면 적당합니다, 작은 데이터셋은 124로 하면 됩니다.\n",
        "cfg.MODEL.ROI_HEADS.NUM_CLASSES = 1  # 클래스는 \"영수증\" 클래스 하나 뿐입니다.\n",
        "\n",
        "os.makedirs(cfg.OUTPUT_DIR, exist_ok=True)\n",
        "trainer = DefaultTrainer(cfg) \n",
        "trainer.resume_or_load(resume=False)\n",
        "trainer.train()"
      ],
      "execution_count": 0,
      "outputs": []
    },
    {
      "cell_type": "code",
      "metadata": {
        "id": "bzFyE6o41EHg",
        "colab_type": "code",
        "colab": {}
      },
      "source": [
        "# tensorboard를 사용해서 학습 커브를 살펴봅니다.\n",
        "%load_ext tensorboard\n",
        "%tensorboard --logdir output"
      ],
      "execution_count": 0,
      "outputs": []
    },
    {
      "cell_type": "markdown",
      "metadata": {
        "id": "0HMCIJXL3lZZ",
        "colab_type": "text"
      },
      "source": [
        "# 학습한 모델 실행 및 평가하기"
      ]
    },
    {
      "cell_type": "markdown",
      "metadata": {
        "id": "eON6gQTJ3pqm",
        "colab_type": "text"
      },
      "source": [
        "영수증 데이터셋의 검증(validation) 데이터셋으로 테스트를 해볼 차례입니다.\n",
        "\n",
        "우선, 방금 전 학습한 모델을 불러와서 predictor를 생성합니다."
      ]
    },
    {
      "cell_type": "code",
      "metadata": {
        "id": "zsxnOEgz3m1F",
        "colab_type": "code",
        "colab": {}
      },
      "source": [
        "cfg.MODEL.WEIGHTS = os.path.join(cfg.OUTPUT_DIR, \"model_final.pth\")\n",
        "cfg.MODEL.ROI_HEADS.SCORE_THRESH_TEST = 0.7   # set the testing threshold for this model\n",
        "cfg.DATASETS.TEST = (\"val\", )\n",
        "predictor = DefaultPredictor(cfg)"
      ],
      "execution_count": 0,
      "outputs": []
    },
    {
      "cell_type": "markdown",
      "metadata": {
        "id": "cnogYJz-36GI",
        "colab_type": "text"
      },
      "source": [
        "샘플을 몇 개 뽑아 살펴봅니다."
      ]
    },
    {
      "cell_type": "code",
      "metadata": {
        "id": "ozR7KAxP33XJ",
        "colab_type": "code",
        "colab": {}
      },
      "source": [
        "from detectron2.utils.visualizer import ColorMode\n",
        "from detectron2.utils.visualizer import GenericMask\n",
        "from detectron2.utils.visualizer import VisImage\n",
        "from detectron2.structures import BitMasks, Boxes, BoxMode, Keypoints, PolygonMasks, RotatedBoxes\n",
        "dataset_dicts = get_receipt_dicts(\"val\",\"val/receipt_coco.json\")\n",
        "for d in random.sample(dataset_dicts, 5):    \n",
        "    im = cv2.imread(d[\"file_name\"])\n",
        "    outputs = predictor(im)\n",
        "    v = Visualizer(im[:, :, ::-1],\n",
        "                   metadata=receipt_metadata_train, \n",
        "                   scale=0.8, \n",
        "                  # instance_mode=ColorMode.IMAGE_BW,   # remove the colors of unsegmented pixels\n",
        "                   #원랜 위에꺼로 쓰다가 오류나서 아래서 해봤는데 실행은, 실행만 되네 ㅆ\n",
        "                   instance_mode=ColorMode.SEGMENTATION\n",
        "                  #  instance_mode = GenericMask.mask_to_polygons\n",
        "\n",
        "    )\n",
        "    v = v.draw_instance_predictions(outputs[\"instances\"].to(\"cpu\"))\n",
        "    cv2_imshow(v.get_image()[:, :, ::-1])\n",
        "    VisImage.save(v, \"./output/\")"
      ],
      "execution_count": 0,
      "outputs": []
    },
    {
      "cell_type": "code",
      "metadata": {
        "id": "vnvG05FJ6med",
        "colab_type": "code",
        "colab": {}
      },
      "source": [
        "from detectron2.evaluation import COCOEvaluator, inference_on_dataset\n",
        "from detectron2.data import build_detection_test_loader\n",
        "evaluator = COCOEvaluator(\"val\", cfg, False, output_dir=\"./output/\")\n",
        "val_loader = build_detection_test_loader(cfg, \"val\")\n",
        "inference_on_dataset(trainer.model, val_loader, evaluator)\n",
        "# another equivalent way is to use trainer.test"
      ],
      "execution_count": 0,
      "outputs": []
    },
    {
      "cell_type": "code",
      "metadata": {
        "id": "bkgt6_IN2dJ9",
        "colab_type": "code",
        "colab": {}
      },
      "source": [
        "!ls output"
      ],
      "execution_count": 0,
      "outputs": []
    },
    {
      "cell_type": "markdown",
      "metadata": {
        "id": "XBh9czpX8dkP",
        "colab_type": "text"
      },
      "source": [
        "# 구글 드라이브에 모델 저장하기"
      ]
    },
    {
      "cell_type": "code",
      "metadata": {
        "id": "bL7W0DYxaHMW",
        "colab_type": "code",
        "colab": {}
      },
      "source": [
        "# 1. Authenticate and create the PyDrive client.\n",
        "auth.authenticate_user()\n",
        "gauth = GoogleAuth()\n",
        "gauth.credentials = GoogleCredentials.get_application_default()\n",
        "drive = GoogleDrive(gauth)\n",
        "\n",
        "# 2. Create & upload a file text file.\n",
        "# 특정 폴더 안으로 파일 삽입\n",
        "uploaded = drive.CreateFile({'title': 'coco_instances_results.json', \"parents\": [{\"kind\": \"drive#fileLink\",\"id\":'1vclAcBSu8wWtYCvAHX0kGJiXb84oGl33' }]})#'1R4bFN-68jn0Ug-gX4nWYTV0C87x6QN_2'\n",
        "uploaded.SetContentString('Sample upload file content')\n",
        "uploaded.SetContentFile('output/coco_instances_results.json')\n",
        "uploaded.Upload()\n",
        "print('Uploaded file with ID {}'.format(uploaded.get('id')))\n",
        "# 3. Load a file by ID and print its contents.\n",
        "downloaded = drive.CreateFile({'id': uploaded.get('id')})"
      ],
      "execution_count": 0,
      "outputs": []
    },
    {
      "cell_type": "code",
      "metadata": {
        "id": "T-yMVKYf-Gp5",
        "colab_type": "code",
        "colab": {}
      },
      "source": [
        "for key in outputs.keys():\n",
        "    print(key, \":\", outputs[key])\n",
        "    print(outputs['instances'].pred_masks)"
      ],
      "execution_count": 0,
      "outputs": []
    },
    {
      "cell_type": "code",
      "metadata": {
        "id": "YLBWILFtKF0V",
        "colab_type": "code",
        "colab": {}
      },
      "source": [
        "with open('output/coco_instances_results.json') as f :\n",
        "    json_data = json.load(f)\n",
        "json_data"
      ],
      "execution_count": 0,
      "outputs": []
    },
    {
      "cell_type": "markdown",
      "metadata": {
        "id": "FqVKj98NGKtw",
        "colab_type": "text"
      },
      "source": [
        "# json파일대로 이미지 Crop하기\n"
      ]
    },
    {
      "cell_type": "code",
      "metadata": {
        "id": "Yf5ccMsI3m3K",
        "colab_type": "code",
        "colab": {}
      },
      "source": [
        "print(type(json_data))\n",
        "# <class 'list'> []"
      ],
      "execution_count": 0,
      "outputs": []
    },
    {
      "cell_type": "code",
      "metadata": {
        "id": "v8RVeUrcJbsw",
        "colab_type": "code",
        "colab": {}
      },
      "source": [
        "print(json_data[0]['bbox'])\n",
        "print(json_data[1]['bbox'])\n",
        "print(json_data[0:3]['bbox']) #얜 오류"
      ],
      "execution_count": 0,
      "outputs": []
    },
    {
      "cell_type": "code",
      "metadata": {
        "id": "O7wrK8Jy5Acp",
        "colab_type": "code",
        "colab": {}
      },
      "source": [
        "json_data[129]['image_id']\n",
        "# 0~129\n",
        "# 근데 image_id는 100개!!"
      ],
      "execution_count": 0,
      "outputs": []
    },
    {
      "cell_type": "markdown",
      "metadata": {
        "id": "1R6Hie206oYN",
        "colab_type": "text"
      },
      "source": [
        "###### json_data에 image_id가 100까지 있다\n",
        "###### 이미지 id를 사용하면 좋겠다\n",
        "\n"
      ]
    },
    {
      "cell_type": "code",
      "metadata": {
        "id": "x4XUf8_OccyD",
        "colab_type": "code",
        "colab": {}
      },
      "source": [
        "import json\n",
        "from collections import OrderedDict\n",
        "from pprint import pprint   #파이썬 데이터 구조를 인터프리터의 입력으로 사용할 수 있는 형태로 예쁘게 인쇄\n",
        "\n",
        "with open('output/coco_instances_results.json', encoding=\"utf-8\") as data_file:    \n",
        "    data = json.load(data_file, object_pairs_hook=OrderedDict)\n",
        " \n",
        "pprint(data[0])"
      ],
      "execution_count": 0,
      "outputs": []
    },
    {
      "cell_type": "code",
      "metadata": {
        "id": "-hEeHB8ccn43",
        "colab_type": "code",
        "colab": {}
      },
      "source": [
        "import json\n",
        "from collections import OrderedDict\n",
        " \n",
        "with open('output/coco_instances_results.json', encoding=\"utf-8\") as data_file:    \n",
        "    data = json.load(data_file)#, object_pairs_hook=OrderedDict)\n",
        "\n",
        "for item in data :\n",
        "  print('id', item['image_id'], 'bbox', item['bbox'])"
      ],
      "execution_count": 0,
      "outputs": []
    },
    {
      "cell_type": "markdown",
      "metadata": {
        "id": "B4_L0OITha1n",
        "colab_type": "text"
      },
      "source": [
        "##### for문을 사용해서 \n",
        "##### 0: 좌층상단, 1: 우측상단, 2: 좌측하단, 3: 우측하단 // 으로 자름\n",
        "##crop\n",
        "##### .\n",
        "##### id 가 동일하다면 그 중에서 스코어가 가장 높은 것만 남김"
      ]
    },
    {
      "cell_type": "code",
      "metadata": {
        "id": "dUwUYPNnvLlD",
        "colab_type": "code",
        "colab": {}
      },
      "source": [
        "!ls"
      ],
      "execution_count": 0,
      "outputs": []
    },
    {
      "cell_type": "code",
      "metadata": {
        "id": "P8RqpSIzgRSt",
        "colab_type": "code",
        "colab": {}
      },
      "source": [
        "import cv2\n",
        "import numpy as np\n",
        "import matplotlib.pyplot as plt\n",
        "\n",
        "#path = \n",
        "#bounding_box_image = cv2.imread('output/03.jpg')    # 얘 경로가 이상한거같은데?!!??????????1?!\n",
        "# 그냥 validation이미지를 바로 쓰면? 그게 나을 거 같다\n",
        "from detectron2.utils.visualizer import ColorMode\n",
        "dataset_dicts = get_receipt_dicts(\"val\",\"val/receipt_coco.json\")\n",
        "\n",
        "for d in random.sample(dataset_dicts, 3):    \n",
        "    bounding_box_image = cv2.imread(d[\"file_name\"])\n",
        "    #im=cv2.imread(d[\"file_name\"])\n",
        "    outputs = predictor( bounding_box_image)  #bounding_box_image 대신에 im이 원래\n",
        "    v = Visualizer(bounding_box_image[:, :, ::-1],#bounding_box_image 대신에 im이 원래\n",
        "                   metadata=receipt_metadata_train, \n",
        "                   scale=0.8\n",
        "    )\n",
        "    v = v.draw_instance_predictions(outputs[\"instances\"].to(\"cpu\"))\n",
        "    cv2_imshow(v.get_image()[:, :, ::-1])\n",
        "print(type(outputs))\n",
        "\n",
        "cv2_imshow(bounding_box_image)\n",
        "\n",
        "grayimage = cv2.cvtColor(bounding_box_image, cv2.COLOR_BGR2GRAY)    #cvtcolor사용 못하나바 우씨\n",
        "#첫번째 이미지의 그 범위를 잘라내기"
      ],
      "execution_count": 0,
      "outputs": []
    },
    {
      "cell_type": "code",
      "metadata": {
        "id": "uRIlTKslm-F9",
        "colab_type": "code",
        "colab": {}
      },
      "source": [
        "ret, mask = cv2.threshold(grayimage, 254, 255, cv2.THRESH_BINARY)\n",
        "\n",
        "cv2.imshow('mask', mask)\n",
        "cv2.waitKey(0)\n",
        "\n",
        "image, contours, hierarchy = cv2.findContours(mask, cv2.RETR_LIST, cv2.CHAIN_APPROX_SIMPLE)\n",
        "#이미지, 경계, 계층\n",
        "for contour in contours:\n",
        "\n",
        "    if cv2.contourArea(contour) < 200:\n",
        "        continue\n",
        "\n",
        "    rect = cv2.minAreaRect(contour)\n",
        "    box = cv2.boxPoints(rect)\n",
        "\n",
        "    ext_left = tuple(contour[contour[:, :, 0].argmin()][0])\n",
        "    ext_right = tuple(contour[contour[:, :, 0].argmax()][0])\n",
        "    ext_top = tuple(contour[contour[:, :, 1].argmin()][0])\n",
        "    ext_bot = tuple(contour[contour[:, :, 1].argmax()][0])\n",
        "\n",
        "    roi_corners = np.array([box], dtype=np.int32)\n",
        "\n",
        "    cv2.polylines(bounding_box_image, roi_corners, 1, (255, 0, 0), 3)\n",
        "    cv2.imshow('image', bounding_box_image)\n",
        "    cv2.waitKey(0)\n",
        "\n",
        "    cropped_image = grayimage[ext_top[1]:ext_bot[1], ext_left[0]:ext_right[0]]\n",
        "    cv2.imwrite('crop.jpg', cropped_image)"
      ],
      "execution_count": 0,
      "outputs": []
    }
  ]
}