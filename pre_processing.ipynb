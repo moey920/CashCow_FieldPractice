{
  "nbformat": 4,
  "nbformat_minor": 0,
  "metadata": {
    "colab": {
      "name": " pre-processing.ipynb",
      "provenance": [],
      "collapsed_sections": [],
      "authorship_tag": "ABX9TyON+i1lm8O5qBq527nSq+El",
      "include_colab_link": true
    },
    "kernelspec": {
      "name": "python3",
      "display_name": "Python 3"
    }
  },
  "cells": [
    {
      "cell_type": "markdown",
      "metadata": {
        "id": "view-in-github",
        "colab_type": "text"
      },
      "source": [
        "<a href=\"https://colab.research.google.com/github/moey920/CashCow_FieldPractice/blob/master/pre_processing.ipynb\" target=\"_parent\"><img src=\"https://colab.research.google.com/assets/colab-badge.svg\" alt=\"Open In Colab\"/></a>"
      ]
    },
    {
      "cell_type": "code",
      "metadata": {
        "colab_type": "code",
        "id": "TQnQNYYCg1i6",
        "outputId": "764ed9d8-dd23-4dae-bf8e-ec465b9ade7d",
        "colab": {
          "base_uri": "https://localhost:8080/",
          "height": 239
        }
      },
      "source": [
        "# 이미지 GrayScale로 만들기\n",
        "import cv2\n",
        "\n",
        "src = cv2.imread('C:/Users/shgkfka1/Desktop/dataset/].jpg', cv2.IMREAD_COLOR)\n",
        "\n",
        "dst = cv2.cvtColor(src, cv2.COLOR_BGR2GRAY)\n",
        "\n",
        "cv2.imshow('src', src)\n",
        "cv2.imshow('dst', dst)\n",
        "cv2.waitKey(0)\n",
        "cv2.destroyAllWindows()\n",
        "\n",
        "# 큐빅보간법으로 이미지 확대하기\n",
        "import cv2\n",
        "import matplotlib.pyplot as plt\n",
        "\n",
        "# 2배 이미지\n",
        "height, width = src.shape[:2]\n",
        "big_src = cv2.resize(dst, dsize=(860,1280), interpolation = cv2.INTER_CUBIC)\n",
        "\n",
        "cv2.imshow('big_src', big_src)\n",
        "cv2.waitKey(0)\n",
        "cv2.destroyAllWindows()\n",
        "\n",
        "# 히스토그램 정규화 하기\n",
        "import cv2\n",
        "import numpy as np\n",
        "from matplotlib import pyplot as plt\n",
        "\n",
        "\n",
        "img = big_src\n",
        "\n",
        "# OpenCV의 Equaliztion함수\n",
        "img1 = cv2.equalizeHist(img)\n",
        "\n",
        "# OpenCV의 adaptive histogram equalization\n",
        "clahe = cv2.createCLAHE(clipLimit=2.0, tileGridSize=(8,8))\n",
        "img2 = clahe.apply(img)\n",
        "\n",
        "result = np.hstack((img1, img2))\n",
        "cv2.imshow('result', result)\n",
        "cv2.waitKey()\n",
        "cv2.destroyAllWindows()\n",
        "\n",
        "# 임계값을 통한 이미지 이진화\n",
        "import cv2\n",
        "\n",
        "# cv2.threshold(그레스케일 이미지, 임계값, 최댓값, 임계값 종류)\n",
        "\n",
        "# cv2.THRESH_BINARY_INV : 임계값 이상 = 0, 임계값 이하 = 최대값\n",
        "thr1, thr2 = cv2.threshold(img1, 15, 255, cv2.THRESH_BINARY_INV)\n",
        "\n",
        "# cv2.THRESH_BINARY : 임계값 이상 = 최대값, 임계값 이하 = 0\n",
        "thr3, thr4 = cv2.threshold(img1, 20, 255, cv2.THRESH_BINARY)\n",
        "\n",
        "\n",
        "result2 = np.hstack((thr2, thr4))\n",
        "cv2.imshow('result2', result2)\n",
        "cv2.waitKey()\n",
        "cv2.destroyAllWindows()\n",
        "\n",
        "# cv2.THRESH_BINARY+cv2.THRESH_OTSU를 활용해 이미지에 대한 히스토그램에서 임계값 자동 계산\n",
        "ret, result3 = cv2.threshold(img2, 0, 255, cv2.THRESH_BINARY+cv2.THRESH_OTSU)\n",
        "\n",
        "cv2.imshow('result3', result3)\n",
        "cv2.waitKey()\n",
        "cv2.destroyAllWindows()\n",
        "cv2.imwrite('C:/Users/Cashcow005/Desktop/3.jpg', result3)\n",
        "\n",
        "import cv2\n",
        "import matplotlib.pyplot as plt\n",
        "import numpy as np\n",
        "# 이미지 GrayScale로 만들기\n",
        "src = cv2.imread('C:/Users/Cashcow005/Desktop/sample/cu9.jpg', cv2.IMREAD_COLOR)\n",
        "\n",
        "dst = cv2.cvtColor(src, cv2.COLOR_BGR2GRAY)\n",
        "\n",
        "# 큐빅보간법으로 이미지 확대하기\n",
        "\n",
        "# 2배 이미지\n",
        "height, width = src.shape[:2]\n",
        "big_src = cv2.resize(dst, dsize=(860,1280), interpolation = cv2.INTER_CUBIC)\n",
        "\n",
        "# 히스토그램 정규화 하기\n",
        "img = big_src\n",
        "\n",
        "# OpenCV의 Equaliztion함수\n",
        "\n",
        "# OpenCV의 adaptive histogram equalization\n",
        "clahe = cv2.createCLAHE(clipLimit=2.0, tileGridSize=(8,8))\n",
        "img2 = clahe.apply(img)\n",
        "\n",
        "# 임계값을 통한 이미지 이진화\n",
        "# cv2.threshold(그레스케일 이미지, 임계값, 최댓값, 임계값 종류)\n",
        "\n",
        "# cv2.THRESH_BINARY_INV : 임계값 이상 = 0, 임계값 이하 = 최대값\n",
        "thr1, thr2 = cv2.threshold(img1, 20, 255, cv2.THRESH_BINARY)\n",
        "result = thr2\n",
        "\n",
        "cv2.imshow('result', result)\n",
        "cv2.waitKey()\n",
        "cv2.destroyAllWindows()\n",
        "cv2.imwrite('C:/Users/Cashcow005/Desktop/new.jpg', result)\n"
      ],
      "execution_count": 0,
      "outputs": [
        {
          "output_type": "error",
          "ename": "error",
          "evalue": "ignored",
          "traceback": [
            "\u001b[0;31m---------------------------------------------------------------------------\u001b[0m",
            "\u001b[0;31merror\u001b[0m                                     Traceback (most recent call last)",
            "\u001b[0;32m<ipython-input-1-59b65dc4c8d5>\u001b[0m in \u001b[0;36m<module>\u001b[0;34m()\u001b[0m\n\u001b[1;32m      3\u001b[0m \u001b[0msrc\u001b[0m \u001b[0;34m=\u001b[0m \u001b[0mcv2\u001b[0m\u001b[0;34m.\u001b[0m\u001b[0mimread\u001b[0m\u001b[0;34m(\u001b[0m\u001b[0;34m'C:/Users/Cashcow005/Desktop/sample/3.jpg'\u001b[0m\u001b[0;34m,\u001b[0m \u001b[0mcv2\u001b[0m\u001b[0;34m.\u001b[0m\u001b[0mIMREAD_COLOR\u001b[0m\u001b[0;34m)\u001b[0m\u001b[0;34m\u001b[0m\u001b[0;34m\u001b[0m\u001b[0m\n\u001b[1;32m      4\u001b[0m \u001b[0;34m\u001b[0m\u001b[0m\n\u001b[0;32m----> 5\u001b[0;31m \u001b[0mdst\u001b[0m \u001b[0;34m=\u001b[0m \u001b[0mcv2\u001b[0m\u001b[0;34m.\u001b[0m\u001b[0mcvtColor\u001b[0m\u001b[0;34m(\u001b[0m\u001b[0msrc\u001b[0m\u001b[0;34m,\u001b[0m \u001b[0mcv2\u001b[0m\u001b[0;34m.\u001b[0m\u001b[0mCOLOR_BGR2GRAY\u001b[0m\u001b[0;34m)\u001b[0m\u001b[0;34m\u001b[0m\u001b[0;34m\u001b[0m\u001b[0m\n\u001b[0m\u001b[1;32m      6\u001b[0m \u001b[0;34m\u001b[0m\u001b[0m\n\u001b[1;32m      7\u001b[0m \u001b[0mcv2\u001b[0m\u001b[0;34m.\u001b[0m\u001b[0mimshow\u001b[0m\u001b[0;34m(\u001b[0m\u001b[0;34m'src'\u001b[0m\u001b[0;34m,\u001b[0m \u001b[0msrc\u001b[0m\u001b[0;34m)\u001b[0m\u001b[0;34m\u001b[0m\u001b[0;34m\u001b[0m\u001b[0m\n",
            "\u001b[0;31merror\u001b[0m: OpenCV(4.1.2) /io/opencv/modules/imgproc/src/color.cpp:182: error: (-215:Assertion failed) !_src.empty() in function 'cvtColor'\n"
          ]
        }
      ]
    },
    {
      "cell_type": "code",
      "metadata": {
        "id": "k_BQjdpFg3AF",
        "colab_type": "code",
        "colab": {}
      },
      "source": [
        "# 이미지 GrayScale로 만들기\n",
        "import cv2\n",
        "\n",
        "src = cv2.imread('C:/Users/shgkfka1/Desktop/dataset/].jpg', cv2.IMREAD_COLOR)\n",
        "\n",
        "dst = cv2.cvtColor(src, cv2.COLOR_BGR2GRAY)\n",
        "\n",
        "cv2.imshow('src', src)\n",
        "cv2.imshow('dst', dst)\n",
        "cv2.waitKey(0)\n",
        "cv2.destroyAllWindows()"
      ],
      "execution_count": 0,
      "outputs": []
    }
  ]
}